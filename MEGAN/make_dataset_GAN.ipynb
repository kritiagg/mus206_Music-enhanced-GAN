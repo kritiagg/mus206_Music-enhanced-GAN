{
 "cells": [
  {
   "cell_type": "code",
   "execution_count": 1,
   "metadata": {},
   "outputs": [],
   "source": [
    "import tensorflow"
   ]
  },
  {
   "cell_type": "code",
   "execution_count": 2,
   "metadata": {},
   "outputs": [
    {
     "name": "stderr",
     "output_type": "stream",
     "text": [
      "Using TensorFlow backend.\n"
     ]
    }
   ],
   "source": [
    "import keras"
   ]
  },
  {
   "cell_type": "code",
   "execution_count": 3,
   "metadata": {},
   "outputs": [],
   "source": [
    "import librosa"
   ]
  },
  {
   "cell_type": "code",
   "execution_count": null,
   "metadata": {},
   "outputs": [],
   "source": [
    "i = 0\n",
    "import os\n",
    "for filename in os.listdir(\"musicDataset\"):\n",
    "     y, sr = librosa.load(\"musicDataset//\" + filename, duration=10.0)\n",
    "     files = filename.split('.')\n",
    "     newfilename = files[0] + '_skim' + '.' + files[1] + \".\" + \"wav\"\n",
    "     noisefilename = files[0] + '_skim' + '.' + files[1] + \".\" + \"wav\"\n",
    "     y1 = y + noise\n",
    "     #print(newfilename)\n",
    "#      librosa.output.write_wav(\"musicDatasetSkim//\" + newfilename, y, sr)\n",
    "     librosa.output.write_wav(\"musicDatasetNoise//\" + noisefilename, y1, sr)\n",
    "    "
   ]
  },
  {
   "cell_type": "code",
   "execution_count": null,
   "metadata": {},
   "outputs": [],
   "source": [
    "def splitFile(filename)\n",
    "    y, sr = librosa.load(\"musicDataset//\" + filename, duration=10.0)\n",
    "    i = 0\n",
    "    step = 128\n",
    "    inp = []\n",
    "    y2 = []\n",
    "    b = noise[0:step]\n",
    "    b = np.array(b)\n",
    "    u = int(len(y)/step)\n",
    "    while i<=u-1:\n",
    "        inp.append(y[i*step: i*step +step])\n",
    "        c = np.array(inp[i])\n",
    "        #c = np.array(inp[i]) + b\n",
    "        y2.append(c + b)\n",
    "        i+=1\n",
    "    print(len(c))\n",
    "    len(c.shape)"
   ]
  }
 ],
 "metadata": {
  "kernelspec": {
   "display_name": "Python 2",
   "language": "python",
   "name": "python2"
  },
  "language_info": {
   "codemirror_mode": {
    "name": "ipython",
    "version": 2
   },
   "file_extension": ".py",
   "mimetype": "text/x-python",
   "name": "python",
   "nbconvert_exporter": "python",
   "pygments_lexer": "ipython2",
   "version": "2.7.14"
  }
 },
 "nbformat": 4,
 "nbformat_minor": 2
}
