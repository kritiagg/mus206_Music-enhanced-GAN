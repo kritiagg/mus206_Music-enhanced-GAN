{
 "cells": [
  {
   "cell_type": "code",
   "execution_count": 1,
   "metadata": {},
   "outputs": [],
   "source": [
    "from __future__ import print_function\n",
    "import tensorflow as tf\n",
    "import numpy as np\n",
    "from collections import namedtuple, OrderedDict\n",
    "from subprocess import call\n",
    "import scipy.io.wavfile as wavfile\n",
    "import argparse\n",
    "import codecs\n",
    "import timeit\n",
    "import struct\n",
    "import toml\n",
    "import re\n",
    "import sys\n",
    "import os\n"
   ]
  },
  {
   "cell_type": "code",
   "execution_count": 2,
   "metadata": {},
   "outputs": [],
   "source": [
    "def _int64_feature(value):\n",
    "  return tf.train.Feature(int64_list=tf.train.Int64List(value=[value]))\n",
    "\n",
    "def _bytes_feature(value):\n",
    "  return tf.train.Feature(bytes_list=tf.train.BytesList(value=[value]))\n",
    "\n",
    "def slice_signal(signal, window_size, stride=0.5):\n",
    "    \"\"\" Return windows of the given signal by sweeping in stride fractions\n",
    "        of window\n",
    "    \"\"\"\n",
    "    assert signal.ndim == 1, signal.ndim\n",
    "    n_samples = signal.shape[0]\n",
    "    offset = int(window_size * stride)\n",
    "    slices = []\n",
    "    for beg_i, end_i in zip(range(0, n_samples, offset),\n",
    "                            range(window_size, n_samples + offset,\n",
    "                                  offset)):\n",
    "        if end_i - beg_i < window_size:\n",
    "            break\n",
    "        slice_ = signal[beg_i:end_i]\n",
    "        if slice_.shape[0] == window_size:\n",
    "            slices.append(slice_)\n",
    "    return np.array(slices, dtype=np.int32)\n",
    "\n",
    "def read_and_slice(filename, wav_canvas_size, stride=0.5):\n",
    "    fm, wav_data = wavfile.read(filename)\n",
    "    if fm != 22050:\n",
    "        raise ValueError('Sampling rate is expected to be 16kHz!')\n",
    "    signals = slice_signal(wav_data, wav_canvas_size, stride)\n",
    "    return signals\n",
    "\n",
    "\n",
    "def encoder_proc(wav_filename, noisy_path, out_file, wav_canvas_size):\n",
    "    \"\"\" Read and slice the wav and noisy files and write to TFRecords.\n",
    "        out_file: TFRecordWriter.\n",
    "    \"\"\"\n",
    "    ppath, wav_fullname = os.path.split(wav_filename)\n",
    "    noisy_filename = os.path.join(noisy_path, wav_fullname)\n",
    "    wav_signals = read_and_slice(wav_filename, wav_canvas_size)\n",
    "    noisy_signals = read_and_slice(noisy_filename, wav_canvas_size)\n",
    "    assert wav_signals.shape == noisy_signals.shape, noisy_signals.shape\n",
    "\n",
    "    for (wav, noisy) in zip(wav_signals, noisy_signals):\n",
    "        wav_raw = wav.tostring()\n",
    "        noisy_raw = noisy.tostring()\n",
    "        example = tf.train.Example(features=tf.train.Features(feature={\n",
    "            'wav_raw': _bytes_feature(wav_raw),\n",
    "            'noisy_raw': _bytes_feature(noisy_raw)}))\n",
    "        out_file.write(example.SerializeToString())\n",
    "\n",
    "def main(opts):\n",
    "    if not os.path.exists(opts.save_path):\n",
    "        # make save path if it does not exist\n",
    "        os.makedirs(opts.save_path)\n",
    "    # set up the output filepath\n",
    "    out_filepath = os.path.join(opts.save_path, opts.out_file)\n",
    "    if os.path.splitext(out_filepath)[1] != '.tfrecords':\n",
    "        # if wrong extension or no extension appended, put .tfrecords\n",
    "        out_filepath += '.tfrecords'\n",
    "    else:\n",
    "        out_filename, ext = os.path.splitext(out_filepath)\n",
    "        out_filepath = out_filename + ext\n",
    "    # check if out_file exists and if force flag is set\n",
    "    if os.path.exists(out_filepath) and not opts.force_gen:\n",
    "        raise ValueError('ERROR: {} already exists. Set force flag (--force-gen) to '\n",
    "                         'overwrite. Skipping this speaker.'.format(out_filepath))\n",
    "    elif os.path.exists(out_filepath) and opts.force_gen:\n",
    "        print('Will overwrite previously existing tfrecords')\n",
    "        os.unlink(out_filepath)\n",
    "    with open(opts.cfg) as cfh:\n",
    "        # read the configuration description\n",
    "        cfg_desc = toml.loads(cfh.read())\n",
    "        beg_enc_t = timeit.default_timer()\n",
    "        out_file = tf.python_io.TFRecordWriter(out_filepath)\n",
    "        # process the acoustic and textual data now\n",
    "        for dset_i, (dset, dset_desc) in enumerate(cfg_desc.iteritems()):\n",
    "            print('-' * 50)\n",
    "            wav_dir = dset_desc['clean']\n",
    "            wav_files = [os.path.join(wav_dir, wav) for wav in\n",
    "                           os.listdir(wav_dir) if wav.endswith('.wav')]\n",
    "            noisy_dir = dset_desc['noisy']\n",
    "            nfiles = len(wav_files)\n",
    "            for m, wav_file in enumerate(wav_files):\n",
    "                print('Processing wav file {}/{} {}{}'.format(m + 1,\n",
    "                                                              nfiles,\n",
    "                                                              wav_file,\n",
    "                                                              ' ' * 10),\n",
    "                      end='\\r')\n",
    "                sys.stdout.flush()\n",
    "                encoder_proc(wav_file, noisy_dir, out_file, 2 ** 14)\n",
    "        out_file.close()\n",
    "        end_enc_t = timeit.default_timer() - beg_enc_t\n",
    "        print('')\n",
    "        print('*' * 50)\n",
    "        print('Total processing and writing time: {} s'.format(end_enc_t))"
   ]
  },
  {
   "cell_type": "code",
   "execution_count": 3,
   "metadata": {},
   "outputs": [
    {
     "name": "stderr",
     "output_type": "stream",
     "text": [
      "usage: ipykernel_launcher.py [-h] [--cfg CFG] [--save_path SAVE_PATH]\n",
      "                             [--out_file OUT_FILE] [--force-gen]\n",
      "ipykernel_launcher.py: error: unrecognized arguments: -f /home/linux/dsmlp/60/460/mu206faa/.local/share/jupyter/runtime/kernel-0b45d8a7-2198-4d8e-84b8-dd4eadbbbac5.json\n"
     ]
    },
    {
     "ename": "SystemExit",
     "evalue": "2",
     "output_type": "error",
     "traceback": [
      "An exception has occurred, use %tb to see the full traceback.\n",
      "\u001b[0;31mSystemExit\u001b[0m\u001b[0;31m:\u001b[0m 2\n"
     ]
    },
    {
     "name": "stderr",
     "output_type": "stream",
     "text": [
      "/opt/conda/lib/python2.7/site-packages/IPython/core/interactiveshell.py:2890: UserWarning: To exit: use 'exit', 'quit', or Ctrl-D.\n",
      "  warn(\"To exit: use 'exit', 'quit', or Ctrl-D.\", stacklevel=1)\n"
     ]
    }
   ],
   "source": [
    "if __name__ == '__main__':\n",
    "    parser = argparse.ArgumentParser(description='Convert the set of txt and '\n",
    "                                                 'wavs to TFRecords')\n",
    "    parser.add_argument('--cfg', type=str, default='cfg/e2e_maker.cfg',\n",
    "                        help='File containing the description of datasets '\n",
    "                             'to extract the info to make the TFRecords.')\n",
    "    parser.add_argument('--save_path', type=str, default='data/',\n",
    "                        help='Path to save the dataset')\n",
    "    parser.add_argument('--out_file', type=str, default='segan.tfrecords',\n",
    "                        help='Output filename')\n",
    "    parser.add_argument('--force-gen', dest='force_gen', action='store_true',\n",
    "                        help='Flag to force overwriting existing dataset.')\n",
    "    parser.set_defaults(force_gen=False)\n",
    "    opts = parser.parse_args()\n",
    "    main(opts)"
   ]
  },
  {
   "cell_type": "code",
   "execution_count": null,
   "metadata": {},
   "outputs": [],
   "source": []
  }
 ],
 "metadata": {
  "kernelspec": {
   "display_name": "Python 2",
   "language": "python",
   "name": "python2"
  },
  "language_info": {
   "codemirror_mode": {
    "name": "ipython",
    "version": 2
   },
   "file_extension": ".py",
   "mimetype": "text/x-python",
   "name": "python",
   "nbconvert_exporter": "python",
   "pygments_lexer": "ipython2",
   "version": "2.7.14"
  }
 },
 "nbformat": 4,
 "nbformat_minor": 2
}
